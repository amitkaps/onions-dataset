{
 "cells": [
  {
   "cell_type": "code",
   "execution_count": 6,
   "metadata": {},
   "outputs": [],
   "source": [
    "# Onion Dataset\n",
    "## Extract Onion Data from HTML Pages"
   ]
  },
  {
   "cell_type": "code",
   "execution_count": 13,
   "metadata": {},
   "outputs": [
    {
     "data": {
      "text/plain": [
       "'1.4.3'"
      ]
     },
     "execution_count": 13,
     "metadata": {},
     "output_type": "execute_result"
    }
   ],
   "source": [
    "import pandas as pd\n",
    "pd.__version__"
   ]
  },
  {
   "cell_type": "code",
   "execution_count": 33,
   "metadata": {},
   "outputs": [],
   "source": [
    "def extractData(year):\n",
    "    raw = pd.read_html(f\"raw/DailyWiseMarketArrivals{year}.html\")\n",
    "    df = raw[3] \n",
    "    filename = f\"data/onions-{year}.csv\"\n",
    "    df.to_csv(filename, index=False)\n",
    "    print(\"Extracted Data to \", filename)"
   ]
  },
  {
   "cell_type": "code",
   "execution_count": 35,
   "metadata": {},
   "outputs": [
    {
     "name": "stdout",
     "output_type": "stream",
     "text": [
      "Extracted Data to  data/onions-2022.csv\n",
      "Extracted Data to  data/onions-2021.csv\n",
      "Extracted Data to  data/onions-2020.csv\n"
     ]
    }
   ],
   "source": [
    "extractData(2022)\n",
    "extractData(2021)\n",
    "extractData(2020)"
   ]
  },
  {
   "cell_type": "code",
   "execution_count": 36,
   "metadata": {},
   "outputs": [
    {
     "name": "stdout",
     "output_type": "stream",
     "text": [
      "   15754 data/onions-2020.csv\n",
      "   11156 data/onions-2021.csv\n",
      "    4060 data/onions-2022.csv\n",
      "   30970 total\n"
     ]
    }
   ],
   "source": [
    "# Number of lines in the CSV files\n",
    "!wc -l data/*.csv"
   ]
  },
  {
   "cell_type": "code",
   "execution_count": null,
   "metadata": {},
   "outputs": [],
   "source": []
  },
  {
   "cell_type": "code",
   "execution_count": null,
   "metadata": {},
   "outputs": [],
   "source": []
  },
  {
   "cell_type": "code",
   "execution_count": null,
   "metadata": {},
   "outputs": [],
   "source": []
  },
  {
   "cell_type": "code",
   "execution_count": null,
   "metadata": {},
   "outputs": [],
   "source": []
  }
 ],
 "metadata": {
  "kernelspec": {
   "display_name": "Python 3 (ipykernel)",
   "language": "python",
   "name": "python3"
  },
  "language_info": {
   "codemirror_mode": {
    "name": "ipython",
    "version": 3
   },
   "file_extension": ".py",
   "mimetype": "text/x-python",
   "name": "python",
   "nbconvert_exporter": "python",
   "pygments_lexer": "ipython3",
   "version": "3.10.4"
  },
  "vscode": {
   "interpreter": {
    "hash": "71b506571491b707e186313fba1d80ec02d2e1a3650b4858ef4681700432251d"
   }
  }
 },
 "nbformat": 4,
 "nbformat_minor": 4
}
